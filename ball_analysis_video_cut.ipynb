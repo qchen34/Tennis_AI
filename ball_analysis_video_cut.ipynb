{
 "cells": [
  {
   "cell_type": "code",
   "execution_count": 2,
   "metadata": {},
   "outputs": [],
   "source": [
    "import sys"
   ]
  },
  {
   "cell_type": "code",
   "execution_count": 3,
   "metadata": {},
   "outputs": [
    {
     "name": "stdout",
     "output_type": "stream",
     "text": [
      "/Users/qiwei/Desktop/Desktop - Qiwei’s MacBook Pro M1/Job/RacketGo/tennis-analysis-test-1\n"
     ]
    }
   ],
   "source": [
    "import os\n",
    "print(os.getcwd())"
   ]
  },
  {
   "cell_type": "code",
   "execution_count": 4,
   "metadata": {},
   "outputs": [],
   "source": [
    "# 获取项目根目录的路径\n",
    "project_root = os.path.abspath(os.path.join(os.getcwd(), '..'))\n",
    "\n",
    "# 将项目根目录添加到 sys.path\n",
    "if project_root not in sys.path:\n",
    "    sys.path.append(project_root)"
   ]
  },
  {
   "cell_type": "code",
   "execution_count": 5,
   "metadata": {},
   "outputs": [],
   "source": [
    "import pickle\n",
    "import pandas as pd\n",
    "import matplotlib.pyplot as plt\n",
    "import numpy as np\n",
    "import cv2\n",
    "from utils.video_utils import read_video, save_video\n",
    "from video_cut import VideoCut\n",
    "from trackers import PlayerTracker, BallTracker"
   ]
  },
  {
   "cell_type": "code",
   "execution_count": 13,
   "metadata": {},
   "outputs": [
    {
     "name": "stdout",
     "output_type": "stream",
     "text": [
      "视频原始帧率: 60.0 FPS\n"
     ]
    },
    {
     "ename": "",
     "evalue": "",
     "output_type": "error",
     "traceback": [
      "\u001b[1;31mThe Kernel crashed while executing code in the current cell or a previous cell. \n",
      "\u001b[1;31mPlease review the code in the cell(s) to identify a possible cause of the failure. \n",
      "\u001b[1;31mClick <a href='https://aka.ms/vscodeJupyterKernelCrash'>here</a> for more info. \n",
      "\u001b[1;31mView Jupyter <a href='command:jupyter.viewOutput'>log</a> for further details."
     ]
    }
   ],
   "source": [
    "input_video_path = \"input/tennis-test.mp4\"\n",
    "video_frames, fps = read_video(input_video_path)"
   ]
  },
  {
   "cell_type": "code",
   "execution_count": 7,
   "metadata": {},
   "outputs": [
    {
     "name": "stdout",
     "output_type": "stream",
     "text": [
      "2. 初始化球员跟踪器...\n",
      "3. 初始化球跟踪器...\n"
     ]
    }
   ],
   "source": [
    "# Detect Players and Ball\n",
    "print(\"2. 初始化球员跟踪器...\")\n",
    "player_tracker = PlayerTracker(model_path=\"models/yolov8x.pt\")\n",
    "print(\"3. 初始化球跟踪器...\")\n",
    "ball_tracker = BallTracker(model_path='models/yolo9_best.pt')"
   ]
  },
  {
   "cell_type": "code",
   "execution_count": 8,
   "metadata": {},
   "outputs": [
    {
     "name": "stdout",
     "output_type": "stream",
     "text": [
      "4. 开始检测球员...\n",
      "球员检测完成，检测到678帧的球员\n",
      "5. 开始检测球...\n",
      "球检测完成，检测到678帧的球\n",
      "6. 开始插值球的位置...\n",
      "球位置插值完成\n"
     ]
    }
   ],
   "source": [
    "print(\"4. 开始检测球员...\")\n",
    "player_detections = player_tracker.detect_frames(video_frames, \n",
    "                                                read_from_stub=False, \n",
    "                                                stub_path=\"tracker_stubs/player_detections.pkl\")\n",
    "print(f\"球员检测完成，检测到{len(player_detections)}帧的球员\")\n",
    "\n",
    "print(\"5. 开始检测球...\")\n",
    "ball_detections = ball_tracker.detect_frames(video_frames, \n",
    "                                            read_from_stub=False, \n",
    "                                            stub_path=\"tracker_stubs/ball_detections.pkl\")\n",
    "print(f\"球检测完成，检测到{len(ball_detections)}帧的球\")\n",
    "\n",
    "print(\"6. 开始插值球的位置...\")\n",
    "ball_detections = ball_tracker.interpolate_ball_positions(ball_detections)\n",
    "print(\"球位置插值完成\")"
   ]
  },
  {
   "cell_type": "code",
   "execution_count": 9,
   "metadata": {},
   "outputs": [
    {
     "name": "stdout",
     "output_type": "stream",
     "text": [
      "11. 开始检测击球帧...\n",
      "击球帧检测完成: [84, 129, 170, 242, 283, 333, 367, 407, 427, 458, 470, 499, 549, 619]\n"
     ]
    },
    {
     "name": "stderr",
     "output_type": "stream",
     "text": [
      "/Users/qiwei/Desktop/Desktop - Qiwei’s MacBook Pro M1/Job/RacketGo/tennis-analysis-test-1/trackers/ball_tracker.py:81: FutureWarning: ChainedAssignmentError: behaviour will change in pandas 3.0!\n",
      "You are setting values through chained assignment. Currently this works in certain cases, but when using Copy-on-Write (which will become the default behaviour in pandas 3.0) this will never work to update the original DataFrame or Series, because the intermediate object on which we are setting values will behave as a copy.\n",
      "A typical example is when you are setting values in a column of a DataFrame, like:\n",
      "\n",
      "df[\"col\"][row_indexer] = value\n",
      "\n",
      "Use `df.loc[row_indexer, \"col\"] = values` instead, to perform the assignment in a single step and ensure this keeps updating the original `df`.\n",
      "\n",
      "See the caveats in the documentation: https://pandas.pydata.org/pandas-docs/stable/user_guide/indexing.html#returning-a-view-versus-a-copy\n",
      "\n",
      "  df_ball_positions['ball_hit'].iloc[i] = 1\n",
      "/Users/qiwei/Desktop/Desktop - Qiwei’s MacBook Pro M1/Job/RacketGo/tennis-analysis-test-1/trackers/ball_tracker.py:81: SettingWithCopyWarning: \n",
      "A value is trying to be set on a copy of a slice from a DataFrame\n",
      "\n",
      "See the caveats in the documentation: https://pandas.pydata.org/pandas-docs/stable/user_guide/indexing.html#returning-a-view-versus-a-copy\n",
      "  df_ball_positions['ball_hit'].iloc[i] = 1\n",
      "/Users/qiwei/Desktop/Desktop - Qiwei’s MacBook Pro M1/Job/RacketGo/tennis-analysis-test-1/trackers/ball_tracker.py:81: FutureWarning: ChainedAssignmentError: behaviour will change in pandas 3.0!\n",
      "You are setting values through chained assignment. Currently this works in certain cases, but when using Copy-on-Write (which will become the default behaviour in pandas 3.0) this will never work to update the original DataFrame or Series, because the intermediate object on which we are setting values will behave as a copy.\n",
      "A typical example is when you are setting values in a column of a DataFrame, like:\n",
      "\n",
      "df[\"col\"][row_indexer] = value\n",
      "\n",
      "Use `df.loc[row_indexer, \"col\"] = values` instead, to perform the assignment in a single step and ensure this keeps updating the original `df`.\n",
      "\n",
      "See the caveats in the documentation: https://pandas.pydata.org/pandas-docs/stable/user_guide/indexing.html#returning-a-view-versus-a-copy\n",
      "\n",
      "  df_ball_positions['ball_hit'].iloc[i] = 1\n",
      "/Users/qiwei/Desktop/Desktop - Qiwei’s MacBook Pro M1/Job/RacketGo/tennis-analysis-test-1/trackers/ball_tracker.py:81: SettingWithCopyWarning: \n",
      "A value is trying to be set on a copy of a slice from a DataFrame\n",
      "\n",
      "See the caveats in the documentation: https://pandas.pydata.org/pandas-docs/stable/user_guide/indexing.html#returning-a-view-versus-a-copy\n",
      "  df_ball_positions['ball_hit'].iloc[i] = 1\n",
      "/Users/qiwei/Desktop/Desktop - Qiwei’s MacBook Pro M1/Job/RacketGo/tennis-analysis-test-1/trackers/ball_tracker.py:81: FutureWarning: ChainedAssignmentError: behaviour will change in pandas 3.0!\n",
      "You are setting values through chained assignment. Currently this works in certain cases, but when using Copy-on-Write (which will become the default behaviour in pandas 3.0) this will never work to update the original DataFrame or Series, because the intermediate object on which we are setting values will behave as a copy.\n",
      "A typical example is when you are setting values in a column of a DataFrame, like:\n",
      "\n",
      "df[\"col\"][row_indexer] = value\n",
      "\n",
      "Use `df.loc[row_indexer, \"col\"] = values` instead, to perform the assignment in a single step and ensure this keeps updating the original `df`.\n",
      "\n",
      "See the caveats in the documentation: https://pandas.pydata.org/pandas-docs/stable/user_guide/indexing.html#returning-a-view-versus-a-copy\n",
      "\n",
      "  df_ball_positions['ball_hit'].iloc[i] = 1\n",
      "/Users/qiwei/Desktop/Desktop - Qiwei’s MacBook Pro M1/Job/RacketGo/tennis-analysis-test-1/trackers/ball_tracker.py:81: SettingWithCopyWarning: \n",
      "A value is trying to be set on a copy of a slice from a DataFrame\n",
      "\n",
      "See the caveats in the documentation: https://pandas.pydata.org/pandas-docs/stable/user_guide/indexing.html#returning-a-view-versus-a-copy\n",
      "  df_ball_positions['ball_hit'].iloc[i] = 1\n",
      "/Users/qiwei/Desktop/Desktop - Qiwei’s MacBook Pro M1/Job/RacketGo/tennis-analysis-test-1/trackers/ball_tracker.py:81: FutureWarning: ChainedAssignmentError: behaviour will change in pandas 3.0!\n",
      "You are setting values through chained assignment. Currently this works in certain cases, but when using Copy-on-Write (which will become the default behaviour in pandas 3.0) this will never work to update the original DataFrame or Series, because the intermediate object on which we are setting values will behave as a copy.\n",
      "A typical example is when you are setting values in a column of a DataFrame, like:\n",
      "\n",
      "df[\"col\"][row_indexer] = value\n",
      "\n",
      "Use `df.loc[row_indexer, \"col\"] = values` instead, to perform the assignment in a single step and ensure this keeps updating the original `df`.\n",
      "\n",
      "See the caveats in the documentation: https://pandas.pydata.org/pandas-docs/stable/user_guide/indexing.html#returning-a-view-versus-a-copy\n",
      "\n",
      "  df_ball_positions['ball_hit'].iloc[i] = 1\n",
      "/Users/qiwei/Desktop/Desktop - Qiwei’s MacBook Pro M1/Job/RacketGo/tennis-analysis-test-1/trackers/ball_tracker.py:81: SettingWithCopyWarning: \n",
      "A value is trying to be set on a copy of a slice from a DataFrame\n",
      "\n",
      "See the caveats in the documentation: https://pandas.pydata.org/pandas-docs/stable/user_guide/indexing.html#returning-a-view-versus-a-copy\n",
      "  df_ball_positions['ball_hit'].iloc[i] = 1\n",
      "/Users/qiwei/Desktop/Desktop - Qiwei’s MacBook Pro M1/Job/RacketGo/tennis-analysis-test-1/trackers/ball_tracker.py:81: FutureWarning: ChainedAssignmentError: behaviour will change in pandas 3.0!\n",
      "You are setting values through chained assignment. Currently this works in certain cases, but when using Copy-on-Write (which will become the default behaviour in pandas 3.0) this will never work to update the original DataFrame or Series, because the intermediate object on which we are setting values will behave as a copy.\n",
      "A typical example is when you are setting values in a column of a DataFrame, like:\n",
      "\n",
      "df[\"col\"][row_indexer] = value\n",
      "\n",
      "Use `df.loc[row_indexer, \"col\"] = values` instead, to perform the assignment in a single step and ensure this keeps updating the original `df`.\n",
      "\n",
      "See the caveats in the documentation: https://pandas.pydata.org/pandas-docs/stable/user_guide/indexing.html#returning-a-view-versus-a-copy\n",
      "\n",
      "  df_ball_positions['ball_hit'].iloc[i] = 1\n",
      "/Users/qiwei/Desktop/Desktop - Qiwei’s MacBook Pro M1/Job/RacketGo/tennis-analysis-test-1/trackers/ball_tracker.py:81: SettingWithCopyWarning: \n",
      "A value is trying to be set on a copy of a slice from a DataFrame\n",
      "\n",
      "See the caveats in the documentation: https://pandas.pydata.org/pandas-docs/stable/user_guide/indexing.html#returning-a-view-versus-a-copy\n",
      "  df_ball_positions['ball_hit'].iloc[i] = 1\n",
      "/Users/qiwei/Desktop/Desktop - Qiwei’s MacBook Pro M1/Job/RacketGo/tennis-analysis-test-1/trackers/ball_tracker.py:81: FutureWarning: ChainedAssignmentError: behaviour will change in pandas 3.0!\n",
      "You are setting values through chained assignment. Currently this works in certain cases, but when using Copy-on-Write (which will become the default behaviour in pandas 3.0) this will never work to update the original DataFrame or Series, because the intermediate object on which we are setting values will behave as a copy.\n",
      "A typical example is when you are setting values in a column of a DataFrame, like:\n",
      "\n",
      "df[\"col\"][row_indexer] = value\n",
      "\n",
      "Use `df.loc[row_indexer, \"col\"] = values` instead, to perform the assignment in a single step and ensure this keeps updating the original `df`.\n",
      "\n",
      "See the caveats in the documentation: https://pandas.pydata.org/pandas-docs/stable/user_guide/indexing.html#returning-a-view-versus-a-copy\n",
      "\n",
      "  df_ball_positions['ball_hit'].iloc[i] = 1\n",
      "/Users/qiwei/Desktop/Desktop - Qiwei’s MacBook Pro M1/Job/RacketGo/tennis-analysis-test-1/trackers/ball_tracker.py:81: SettingWithCopyWarning: \n",
      "A value is trying to be set on a copy of a slice from a DataFrame\n",
      "\n",
      "See the caveats in the documentation: https://pandas.pydata.org/pandas-docs/stable/user_guide/indexing.html#returning-a-view-versus-a-copy\n",
      "  df_ball_positions['ball_hit'].iloc[i] = 1\n",
      "/Users/qiwei/Desktop/Desktop - Qiwei’s MacBook Pro M1/Job/RacketGo/tennis-analysis-test-1/trackers/ball_tracker.py:81: FutureWarning: ChainedAssignmentError: behaviour will change in pandas 3.0!\n",
      "You are setting values through chained assignment. Currently this works in certain cases, but when using Copy-on-Write (which will become the default behaviour in pandas 3.0) this will never work to update the original DataFrame or Series, because the intermediate object on which we are setting values will behave as a copy.\n",
      "A typical example is when you are setting values in a column of a DataFrame, like:\n",
      "\n",
      "df[\"col\"][row_indexer] = value\n",
      "\n",
      "Use `df.loc[row_indexer, \"col\"] = values` instead, to perform the assignment in a single step and ensure this keeps updating the original `df`.\n",
      "\n",
      "See the caveats in the documentation: https://pandas.pydata.org/pandas-docs/stable/user_guide/indexing.html#returning-a-view-versus-a-copy\n",
      "\n",
      "  df_ball_positions['ball_hit'].iloc[i] = 1\n",
      "/Users/qiwei/Desktop/Desktop - Qiwei’s MacBook Pro M1/Job/RacketGo/tennis-analysis-test-1/trackers/ball_tracker.py:81: SettingWithCopyWarning: \n",
      "A value is trying to be set on a copy of a slice from a DataFrame\n",
      "\n",
      "See the caveats in the documentation: https://pandas.pydata.org/pandas-docs/stable/user_guide/indexing.html#returning-a-view-versus-a-copy\n",
      "  df_ball_positions['ball_hit'].iloc[i] = 1\n",
      "/Users/qiwei/Desktop/Desktop - Qiwei’s MacBook Pro M1/Job/RacketGo/tennis-analysis-test-1/trackers/ball_tracker.py:81: FutureWarning: ChainedAssignmentError: behaviour will change in pandas 3.0!\n",
      "You are setting values through chained assignment. Currently this works in certain cases, but when using Copy-on-Write (which will become the default behaviour in pandas 3.0) this will never work to update the original DataFrame or Series, because the intermediate object on which we are setting values will behave as a copy.\n",
      "A typical example is when you are setting values in a column of a DataFrame, like:\n",
      "\n",
      "df[\"col\"][row_indexer] = value\n",
      "\n",
      "Use `df.loc[row_indexer, \"col\"] = values` instead, to perform the assignment in a single step and ensure this keeps updating the original `df`.\n",
      "\n",
      "See the caveats in the documentation: https://pandas.pydata.org/pandas-docs/stable/user_guide/indexing.html#returning-a-view-versus-a-copy\n",
      "\n",
      "  df_ball_positions['ball_hit'].iloc[i] = 1\n",
      "/Users/qiwei/Desktop/Desktop - Qiwei’s MacBook Pro M1/Job/RacketGo/tennis-analysis-test-1/trackers/ball_tracker.py:81: SettingWithCopyWarning: \n",
      "A value is trying to be set on a copy of a slice from a DataFrame\n",
      "\n",
      "See the caveats in the documentation: https://pandas.pydata.org/pandas-docs/stable/user_guide/indexing.html#returning-a-view-versus-a-copy\n",
      "  df_ball_positions['ball_hit'].iloc[i] = 1\n",
      "/Users/qiwei/Desktop/Desktop - Qiwei’s MacBook Pro M1/Job/RacketGo/tennis-analysis-test-1/trackers/ball_tracker.py:81: FutureWarning: ChainedAssignmentError: behaviour will change in pandas 3.0!\n",
      "You are setting values through chained assignment. Currently this works in certain cases, but when using Copy-on-Write (which will become the default behaviour in pandas 3.0) this will never work to update the original DataFrame or Series, because the intermediate object on which we are setting values will behave as a copy.\n",
      "A typical example is when you are setting values in a column of a DataFrame, like:\n",
      "\n",
      "df[\"col\"][row_indexer] = value\n",
      "\n",
      "Use `df.loc[row_indexer, \"col\"] = values` instead, to perform the assignment in a single step and ensure this keeps updating the original `df`.\n",
      "\n",
      "See the caveats in the documentation: https://pandas.pydata.org/pandas-docs/stable/user_guide/indexing.html#returning-a-view-versus-a-copy\n",
      "\n",
      "  df_ball_positions['ball_hit'].iloc[i] = 1\n",
      "/Users/qiwei/Desktop/Desktop - Qiwei’s MacBook Pro M1/Job/RacketGo/tennis-analysis-test-1/trackers/ball_tracker.py:81: SettingWithCopyWarning: \n",
      "A value is trying to be set on a copy of a slice from a DataFrame\n",
      "\n",
      "See the caveats in the documentation: https://pandas.pydata.org/pandas-docs/stable/user_guide/indexing.html#returning-a-view-versus-a-copy\n",
      "  df_ball_positions['ball_hit'].iloc[i] = 1\n",
      "/Users/qiwei/Desktop/Desktop - Qiwei’s MacBook Pro M1/Job/RacketGo/tennis-analysis-test-1/trackers/ball_tracker.py:81: FutureWarning: ChainedAssignmentError: behaviour will change in pandas 3.0!\n",
      "You are setting values through chained assignment. Currently this works in certain cases, but when using Copy-on-Write (which will become the default behaviour in pandas 3.0) this will never work to update the original DataFrame or Series, because the intermediate object on which we are setting values will behave as a copy.\n",
      "A typical example is when you are setting values in a column of a DataFrame, like:\n",
      "\n",
      "df[\"col\"][row_indexer] = value\n",
      "\n",
      "Use `df.loc[row_indexer, \"col\"] = values` instead, to perform the assignment in a single step and ensure this keeps updating the original `df`.\n",
      "\n",
      "See the caveats in the documentation: https://pandas.pydata.org/pandas-docs/stable/user_guide/indexing.html#returning-a-view-versus-a-copy\n",
      "\n",
      "  df_ball_positions['ball_hit'].iloc[i] = 1\n",
      "/Users/qiwei/Desktop/Desktop - Qiwei’s MacBook Pro M1/Job/RacketGo/tennis-analysis-test-1/trackers/ball_tracker.py:81: SettingWithCopyWarning: \n",
      "A value is trying to be set on a copy of a slice from a DataFrame\n",
      "\n",
      "See the caveats in the documentation: https://pandas.pydata.org/pandas-docs/stable/user_guide/indexing.html#returning-a-view-versus-a-copy\n",
      "  df_ball_positions['ball_hit'].iloc[i] = 1\n",
      "/Users/qiwei/Desktop/Desktop - Qiwei’s MacBook Pro M1/Job/RacketGo/tennis-analysis-test-1/trackers/ball_tracker.py:81: FutureWarning: ChainedAssignmentError: behaviour will change in pandas 3.0!\n",
      "You are setting values through chained assignment. Currently this works in certain cases, but when using Copy-on-Write (which will become the default behaviour in pandas 3.0) this will never work to update the original DataFrame or Series, because the intermediate object on which we are setting values will behave as a copy.\n",
      "A typical example is when you are setting values in a column of a DataFrame, like:\n",
      "\n",
      "df[\"col\"][row_indexer] = value\n",
      "\n",
      "Use `df.loc[row_indexer, \"col\"] = values` instead, to perform the assignment in a single step and ensure this keeps updating the original `df`.\n",
      "\n",
      "See the caveats in the documentation: https://pandas.pydata.org/pandas-docs/stable/user_guide/indexing.html#returning-a-view-versus-a-copy\n",
      "\n",
      "  df_ball_positions['ball_hit'].iloc[i] = 1\n",
      "/Users/qiwei/Desktop/Desktop - Qiwei’s MacBook Pro M1/Job/RacketGo/tennis-analysis-test-1/trackers/ball_tracker.py:81: SettingWithCopyWarning: \n",
      "A value is trying to be set on a copy of a slice from a DataFrame\n",
      "\n",
      "See the caveats in the documentation: https://pandas.pydata.org/pandas-docs/stable/user_guide/indexing.html#returning-a-view-versus-a-copy\n",
      "  df_ball_positions['ball_hit'].iloc[i] = 1\n",
      "/Users/qiwei/Desktop/Desktop - Qiwei’s MacBook Pro M1/Job/RacketGo/tennis-analysis-test-1/trackers/ball_tracker.py:81: FutureWarning: ChainedAssignmentError: behaviour will change in pandas 3.0!\n",
      "You are setting values through chained assignment. Currently this works in certain cases, but when using Copy-on-Write (which will become the default behaviour in pandas 3.0) this will never work to update the original DataFrame or Series, because the intermediate object on which we are setting values will behave as a copy.\n",
      "A typical example is when you are setting values in a column of a DataFrame, like:\n",
      "\n",
      "df[\"col\"][row_indexer] = value\n",
      "\n",
      "Use `df.loc[row_indexer, \"col\"] = values` instead, to perform the assignment in a single step and ensure this keeps updating the original `df`.\n",
      "\n",
      "See the caveats in the documentation: https://pandas.pydata.org/pandas-docs/stable/user_guide/indexing.html#returning-a-view-versus-a-copy\n",
      "\n",
      "  df_ball_positions['ball_hit'].iloc[i] = 1\n",
      "/Users/qiwei/Desktop/Desktop - Qiwei’s MacBook Pro M1/Job/RacketGo/tennis-analysis-test-1/trackers/ball_tracker.py:81: SettingWithCopyWarning: \n",
      "A value is trying to be set on a copy of a slice from a DataFrame\n",
      "\n",
      "See the caveats in the documentation: https://pandas.pydata.org/pandas-docs/stable/user_guide/indexing.html#returning-a-view-versus-a-copy\n",
      "  df_ball_positions['ball_hit'].iloc[i] = 1\n",
      "/Users/qiwei/Desktop/Desktop - Qiwei’s MacBook Pro M1/Job/RacketGo/tennis-analysis-test-1/trackers/ball_tracker.py:81: FutureWarning: ChainedAssignmentError: behaviour will change in pandas 3.0!\n",
      "You are setting values through chained assignment. Currently this works in certain cases, but when using Copy-on-Write (which will become the default behaviour in pandas 3.0) this will never work to update the original DataFrame or Series, because the intermediate object on which we are setting values will behave as a copy.\n",
      "A typical example is when you are setting values in a column of a DataFrame, like:\n",
      "\n",
      "df[\"col\"][row_indexer] = value\n",
      "\n",
      "Use `df.loc[row_indexer, \"col\"] = values` instead, to perform the assignment in a single step and ensure this keeps updating the original `df`.\n",
      "\n",
      "See the caveats in the documentation: https://pandas.pydata.org/pandas-docs/stable/user_guide/indexing.html#returning-a-view-versus-a-copy\n",
      "\n",
      "  df_ball_positions['ball_hit'].iloc[i] = 1\n",
      "/Users/qiwei/Desktop/Desktop - Qiwei’s MacBook Pro M1/Job/RacketGo/tennis-analysis-test-1/trackers/ball_tracker.py:81: SettingWithCopyWarning: \n",
      "A value is trying to be set on a copy of a slice from a DataFrame\n",
      "\n",
      "See the caveats in the documentation: https://pandas.pydata.org/pandas-docs/stable/user_guide/indexing.html#returning-a-view-versus-a-copy\n",
      "  df_ball_positions['ball_hit'].iloc[i] = 1\n",
      "/Users/qiwei/Desktop/Desktop - Qiwei’s MacBook Pro M1/Job/RacketGo/tennis-analysis-test-1/trackers/ball_tracker.py:81: FutureWarning: ChainedAssignmentError: behaviour will change in pandas 3.0!\n",
      "You are setting values through chained assignment. Currently this works in certain cases, but when using Copy-on-Write (which will become the default behaviour in pandas 3.0) this will never work to update the original DataFrame or Series, because the intermediate object on which we are setting values will behave as a copy.\n",
      "A typical example is when you are setting values in a column of a DataFrame, like:\n",
      "\n",
      "df[\"col\"][row_indexer] = value\n",
      "\n",
      "Use `df.loc[row_indexer, \"col\"] = values` instead, to perform the assignment in a single step and ensure this keeps updating the original `df`.\n",
      "\n",
      "See the caveats in the documentation: https://pandas.pydata.org/pandas-docs/stable/user_guide/indexing.html#returning-a-view-versus-a-copy\n",
      "\n",
      "  df_ball_positions['ball_hit'].iloc[i] = 1\n",
      "/Users/qiwei/Desktop/Desktop - Qiwei’s MacBook Pro M1/Job/RacketGo/tennis-analysis-test-1/trackers/ball_tracker.py:81: SettingWithCopyWarning: \n",
      "A value is trying to be set on a copy of a slice from a DataFrame\n",
      "\n",
      "See the caveats in the documentation: https://pandas.pydata.org/pandas-docs/stable/user_guide/indexing.html#returning-a-view-versus-a-copy\n",
      "  df_ball_positions['ball_hit'].iloc[i] = 1\n"
     ]
    }
   ],
   "source": [
    "# Detect ball shots\n",
    "print(\"11. 开始检测击球帧...\")\n",
    "ball_shot_frames = ball_tracker.get_ball_shot_frames(ball_detections)\n",
    "print(f\"击球帧检测完成: {ball_shot_frames}\")"
   ]
  },
  {
   "cell_type": "code",
   "execution_count": 10,
   "metadata": {},
   "outputs": [],
   "source": [
    "# Draw output\n",
    "## Draw Player Bounding Boxes\n",
    "output_video_frames= player_tracker.draw_bboxes(video_frames, player_detections)\n",
    "output_video_frames= ball_tracker.draw_bboxes(output_video_frames, ball_detections)\n",
    "\n",
    "## Draw frame number on top left corner\n",
    "for i, frame in enumerate(output_video_frames):\n",
    "    cv2.putText(frame, f\"Frame: {i}\",(10,30),cv2.FONT_HERSHEY_SIMPLEX, 1, (0, 255, 0), 2)\n",
    "\n",
    "\n",
    "\n"
   ]
  },
  {
   "cell_type": "code",
   "execution_count": 11,
   "metadata": {},
   "outputs": [
    {
     "name": "stdout",
     "output_type": "stream",
     "text": [
      "13. 开始保存视频...\n",
      "使用原始视频帧率: 60.0 FPS\n",
      "视频保存完成，总帧数: 678，帧率: 60.0 FPS\n"
     ]
    }
   ],
   "source": [
    "# Save video\n",
    "output_video_path = \"output_videos/output_video.avi\"\n",
    "print(\"13. 开始保存视频...\")\n",
    "save_video(output_video_frames, output_video_path)"
   ]
  },
  {
   "cell_type": "code",
   "execution_count": 12,
   "metadata": {},
   "outputs": [
    {
     "name": "stdout",
     "output_type": "stream",
     "text": [
      "Video Duration: 11.3s, FPS: 60, Total Frames: 678\n",
      "14. 所有处理完成！\n"
     ]
    }
   ],
   "source": [
    "\n",
    "\n",
    "shot_cut_output = \"output_videos/shotcut/shot1.avi\"\n",
    "video_cutter = VideoCut(output_video_path, shot_cut_output, ball_shot_frames)\n",
    "video_cutter.cut_video()\n",
    "print(\"14. 所有处理完成！\")"
   ]
  },
  {
   "cell_type": "code",
   "execution_count": null,
   "metadata": {},
   "outputs": [],
   "source": []
  }
 ],
 "metadata": {
  "kernelspec": {
   "display_name": "Python 3",
   "language": "python",
   "name": "python3"
  },
  "language_info": {
   "codemirror_mode": {
    "name": "ipython",
    "version": 3
   },
   "file_extension": ".py",
   "mimetype": "text/x-python",
   "name": "python",
   "nbconvert_exporter": "python",
   "pygments_lexer": "ipython3",
   "version": "3.11.6"
  }
 },
 "nbformat": 4,
 "nbformat_minor": 2
}
